{
 "cells": [
  {
   "cell_type": "code",
   "execution_count": 2,
   "id": "50838d85-56bf-40d0-85d7-0565f8699186",
   "metadata": {},
   "outputs": [],
   "source": [
    "import pandas as pd\n",
    "import mysql.connector"
   ]
  },
  {
   "cell_type": "code",
   "execution_count": 3,
   "id": "83b6e946-fdfd-4391-bb4a-e911107e0972",
   "metadata": {},
   "outputs": [],
   "source": [
    "conn = mysql.connector.connect(\n",
    "    host=\"localhost\",\n",
    "    user=\"root\",\n",
    "    password=\"mysqlPass@3112\",\n",
    "    database=\"sql_project\"\n",
    ")"
   ]
  },
  {
   "cell_type": "code",
   "execution_count": 4,
   "id": "8abefbf9-0d81-497f-880c-ec5938cae3a6",
   "metadata": {},
   "outputs": [],
   "source": [
    "cursor = conn.cursor()"
   ]
  },
  {
   "cell_type": "code",
   "execution_count": 9,
   "id": "c576b59f-9dbc-4385-bb99-aa2da2ac211d",
   "metadata": {},
   "outputs": [],
   "source": [
    "df1 = pd.read_csv(\"C:/ProgramData/MySQL/MySQL Server 8.0/Uploads/customers.csv\")"
   ]
  },
  {
   "cell_type": "code",
   "execution_count": 13,
   "id": "81505230-4323-4a2d-81dd-e4c43e69ca32",
   "metadata": {},
   "outputs": [],
   "source": [
    "for _, row in df1.iterrows():\n",
    "    cursor.execute(\"\"\"\n",
    "        INSERT INTO customers (customer_id, customer_unique_id, customer_zip_code_prefix, customer_city, customer_state)\n",
    "        VALUES (%s, %s, %s, %s, %s)\n",
    "    \"\"\", tuple(row))"
   ]
  },
  {
   "cell_type": "code",
   "execution_count": 14,
   "id": "0fc70a09-e569-4eb2-8946-5ad8c67664f4",
   "metadata": {},
   "outputs": [],
   "source": [
    "conn.commit()"
   ]
  },
  {
   "cell_type": "code",
   "execution_count": 26,
   "id": "6a5958c9-0301-49c4-ba56-9531f170c022",
   "metadata": {},
   "outputs": [],
   "source": [
    "df2 = pd.read_csv(\"C:/ProgramData/MySQL/MySQL Server 8.0/Uploads/orders.csv\")"
   ]
  },
  {
   "cell_type": "code",
   "execution_count": 27,
   "id": "3a3abe93-922b-448a-84b2-e7edcf7922f6",
   "metadata": {},
   "outputs": [],
   "source": [
    "for _, row in df2.iterrows():\n",
    "    cursor.execute(\"\"\"\n",
    "        INSERT INTO orders (order_id, customer_id, order_status, order_purchase_timestamp, \n",
    "                            order_approved_at, order_delivered_carrier_date, \n",
    "                            order_delivered_customer_date, order_estimated_delivery_date)\n",
    "        VALUES (%s, %s, %s, %s, %s, %s, %s, %s)\n",
    "    \"\"\", tuple(row))"
   ]
  },
  {
   "cell_type": "code",
   "execution_count": 28,
   "id": "4220a333-f4b7-4e72-a4a8-33b288cec1fe",
   "metadata": {},
   "outputs": [],
   "source": [
    "conn.commit()"
   ]
  },
  {
   "cell_type": "code",
   "execution_count": 19,
   "id": "20fc6239-03f4-477a-98f8-ef631016ca50",
   "metadata": {},
   "outputs": [],
   "source": [
    "df3 = pd.read_csv(\"C:/ProgramData/MySQL/MySQL Server 8.0/Uploads/geolocation.csv\")"
   ]
  },
  {
   "cell_type": "code",
   "execution_count": 24,
   "id": "ed057779-a62c-430c-9c43-012ebba0d316",
   "metadata": {},
   "outputs": [],
   "source": [
    "for _, row in df3.iterrows():\n",
    "    cursor.execute(\"\"\"\n",
    "        INSERT INTO geolocation (geolocation_zip_code_prefix, geolocation_lat, geolocation_lng, geolocation_city, \n",
    "                            geolocation_state)\n",
    "        VALUES (%s, %s, %s, %s, %s)\n",
    "    \"\"\", tuple(row))"
   ]
  },
  {
   "cell_type": "code",
   "execution_count": 25,
   "id": "cc66febc-e4e5-4796-bb70-99fd947876af",
   "metadata": {},
   "outputs": [],
   "source": [
    "conn.commit()"
   ]
  },
  {
   "cell_type": "code",
   "execution_count": 31,
   "id": "8bf18b6a-96ba-48bc-abc0-3c8761c36da0",
   "metadata": {},
   "outputs": [],
   "source": [
    "df4 = pd.read_csv(\"C:/ProgramData/MySQL/MySQL Server 8.0/Uploads/products.csv\")"
   ]
  },
  {
   "cell_type": "code",
   "execution_count": 32,
   "id": "be08054b-4b64-42cd-a406-b1b926c2a94a",
   "metadata": {},
   "outputs": [],
   "source": [
    "data_tuples = list(df4.itertuples(index=False, name=None))"
   ]
  },
  {
   "cell_type": "code",
   "execution_count": 33,
   "id": "3a416ab9-8a83-4f9a-95a4-c14ecce722d3",
   "metadata": {},
   "outputs": [],
   "source": [
    "insert_query = \"\"\"\n",
    "INSERT INTO products (\n",
    "    product_id, product_category_name, product_name_length, \n",
    "    product_description_length, product_photos_qty, \n",
    "    product_weight_g, product_length_cm, product_height_cm, product_width_cm\n",
    ") \n",
    "VALUES (%s, %s, %s, %s, %s, %s, %s, %s, %s)\n",
    "\"\"\""
   ]
  },
  {
   "cell_type": "code",
   "execution_count": 34,
   "id": "40d2980b-8bae-4209-bb22-de6d9dc4ce05",
   "metadata": {},
   "outputs": [],
   "source": [
    "cursor.executemany(insert_query, data_tuples)"
   ]
  },
  {
   "cell_type": "code",
   "execution_count": 35,
   "id": "6251c312-842e-441f-8a73-d6166c5c0ca0",
   "metadata": {},
   "outputs": [],
   "source": [
    "conn.commit()"
   ]
  },
  {
   "cell_type": "code",
   "execution_count": 43,
   "id": "fc9d78e3-7c91-4aa5-b284-465976657da0",
   "metadata": {},
   "outputs": [],
   "source": [
    "df5 = pd.read_csv(\"C:/ProgramData/MySQL/MySQL Server 8.0/Uploads/sellers.csv\")"
   ]
  },
  {
   "cell_type": "code",
   "execution_count": 44,
   "id": "c71aff04-6fe7-4de5-84c6-451717bf25b7",
   "metadata": {},
   "outputs": [],
   "source": [
    "data_tuples = list(df5.itertuples(index=False, name=None))"
   ]
  },
  {
   "cell_type": "code",
   "execution_count": 45,
   "id": "46e25325-4854-4027-9b37-491af7b02ddc",
   "metadata": {},
   "outputs": [],
   "source": [
    "insert_query = \"\"\"\n",
    "INSERT INTO sellers (\n",
    "    seller_id, seller_zip_code_prefix, seller_city, seller_state) \n",
    "VALUES (%s, %s, %s, %s)\n",
    "\"\"\""
   ]
  },
  {
   "cell_type": "code",
   "execution_count": 46,
   "id": "d8c6856c-de6c-4b3c-913a-b65621bc759b",
   "metadata": {},
   "outputs": [],
   "source": [
    "cursor.executemany(insert_query, data_tuples)"
   ]
  },
  {
   "cell_type": "code",
   "execution_count": 47,
   "id": "71671dfc-5262-47b0-b6ad-74ae073910c9",
   "metadata": {},
   "outputs": [],
   "source": [
    "conn.commit()"
   ]
  },
  {
   "cell_type": "code",
   "execution_count": 48,
   "id": "02835dff-6449-455d-ad0d-74f949d039c2",
   "metadata": {},
   "outputs": [],
   "source": [
    "df6 = pd.read_csv(\"C:/ProgramData/MySQL/MySQL Server 8.0/Uploads/product_translation.csv\")"
   ]
  },
  {
   "cell_type": "code",
   "execution_count": 49,
   "id": "a9d9b4ed-318d-421d-b00b-9741a19e85e9",
   "metadata": {},
   "outputs": [],
   "source": [
    "data_tuples = list(df6.itertuples(index=False, name=None))"
   ]
  },
  {
   "cell_type": "code",
   "execution_count": 50,
   "id": "54933637-7e23-4a8b-a0f7-7c423bcab450",
   "metadata": {},
   "outputs": [],
   "source": [
    "insert_query = \"\"\"\n",
    "INSERT INTO product_translation (\n",
    "    product_category_name, product_category_name_english) \n",
    "VALUES (%s, %s)\n",
    "\"\"\""
   ]
  },
  {
   "cell_type": "code",
   "execution_count": 51,
   "id": "de4d8b6b-bde5-41aa-b746-5b0d10ae1961",
   "metadata": {},
   "outputs": [],
   "source": [
    "cursor.executemany(insert_query, data_tuples)"
   ]
  },
  {
   "cell_type": "code",
   "execution_count": 52,
   "id": "fc9d1bc2-94f1-455c-8235-e79ddaf911a9",
   "metadata": {},
   "outputs": [],
   "source": [
    "conn.commit()"
   ]
  },
  {
   "cell_type": "code",
   "execution_count": 11,
   "id": "af791bea-f9c5-44af-9811-ae77f3f64d6d",
   "metadata": {},
   "outputs": [
    {
     "data": {
      "text/plain": [
       "True"
      ]
     },
     "execution_count": 11,
     "metadata": {},
     "output_type": "execute_result"
    }
   ],
   "source": [
    "cursor.close()"
   ]
  },
  {
   "cell_type": "code",
   "execution_count": 12,
   "id": "ba10022f-ad64-43be-8179-ef07fc5aeee3",
   "metadata": {},
   "outputs": [],
   "source": [
    "conn.close()"
   ]
  },
  {
   "cell_type": "code",
   "execution_count": null,
   "id": "8f93075a-225a-410e-b379-0d71740e139e",
   "metadata": {},
   "outputs": [],
   "source": []
  }
 ],
 "metadata": {
  "kernelspec": {
   "display_name": "Python 3 (ipykernel)",
   "language": "python",
   "name": "python3"
  },
  "language_info": {
   "codemirror_mode": {
    "name": "ipython",
    "version": 3
   },
   "file_extension": ".py",
   "mimetype": "text/x-python",
   "name": "python",
   "nbconvert_exporter": "python",
   "pygments_lexer": "ipython3",
   "version": "3.10.16"
  }
 },
 "nbformat": 4,
 "nbformat_minor": 5
}
